{
  "nbformat": 4,
  "nbformat_minor": 0,
  "metadata": {
    "colab": {
      "name": "AudioProcessingWithPython_Colab.ipynb",
      "provenance": [],
      "collapsed_sections": [],
      "authorship_tag": "ABX9TyMqk1AhFHfuU79dzR0O+pmi",
      "include_colab_link": true
    },
    "kernelspec": {
      "name": "python3",
      "display_name": "Python 3"
    }
  },
  "cells": [
    {
      "cell_type": "markdown",
      "metadata": {
        "id": "view-in-github",
        "colab_type": "text"
      },
      "source": [
        "<a href=\"https://colab.research.google.com/github/bldev2473/AudioProcessingWithPython/blob/main/AudioProcessingWithPython_Colab.ipynb\" target=\"_parent\"><img src=\"https://colab.research.google.com/assets/colab-badge.svg\" alt=\"Open In Colab\"/></a>"
      ]
    },
    {
      "cell_type": "code",
      "metadata": {
        "id": "4ffFjjy0yCWW"
      },
      "source": [
        "import wave\n",
        "import numpy as np\n",
        "import requests\n",
        "\n",
        "r = requests.get('http://www.aoakley.com/articles/stereo-test.mp3')\n",
        "\n",
        "with open('stereo-test.mp3', mode='bx') as f:\n",
        "    f.write(r.content)"
      ],
      "execution_count": null,
      "outputs": []
    },
    {
      "cell_type": "code",
      "metadata": {
        "id": "TrOYbyvJu3eM"
      },
      "source": [
        "print(r.content)"
      ],
      "execution_count": null,
      "outputs": []
    },
    {
      "cell_type": "code",
      "metadata": {
        "id": "Mv6uacYu36eD",
        "outputId": "70c90e9b-b895-4b05-ff17-5134e73f4603",
        "colab": {
          "base_uri": "https://localhost:8080/"
        }
      },
      "source": [
        "pip install pydub"
      ],
      "execution_count": null,
      "outputs": [
        {
          "output_type": "stream",
          "text": [
            "Collecting pydub\n",
            "  Downloading https://files.pythonhosted.org/packages/7b/d1/fbfa79371a8cd9bb15c2e3c480d7e6e340ed5cc55005174e16f48418333a/pydub-0.24.1-py2.py3-none-any.whl\n",
            "Installing collected packages: pydub\n",
            "Successfully installed pydub-0.24.1\n"
          ],
          "name": "stdout"
        }
      ]
    },
    {
      "cell_type": "code",
      "metadata": {
        "id": "AEZVmGU2uSYX",
        "outputId": "eec70a34-9c29-4d35-8884-ee337d3396d0",
        "colab": {
          "base_uri": "https://localhost:8080/"
        }
      },
      "source": [
        "from pydub import AudioSegment\n",
        "sound = AudioSegment.from_mp3('stereo-test.mp3')\n",
        "sound.export('stereo-test.wav', format=\"wav\")"
      ],
      "execution_count": null,
      "outputs": [
        {
          "output_type": "execute_result",
          "data": {
            "text/plain": [
              "<_io.BufferedRandom name='stereo-test.wav'>"
            ]
          },
          "metadata": {
            "tags": []
          },
          "execution_count": 59
        }
      ]
    },
    {
      "cell_type": "code",
      "metadata": {
        "id": "2KKA4myF3s5s"
      },
      "source": [
        "file = wave.open('stereo-test.wav')"
      ],
      "execution_count": null,
      "outputs": []
    },
    {
      "cell_type": "code",
      "metadata": {
        "id": "Uwl7xXGVuade",
        "outputId": "20caeeec-9d25-49b9-c182-ba377a051fbf",
        "colab": {
          "base_uri": "https://localhost:8080/"
        }
      },
      "source": [
        "fr = file.getframerate()\n",
        "print(fr)"
      ],
      "execution_count": null,
      "outputs": [
        {
          "output_type": "stream",
          "text": [
            "32000\n"
          ],
          "name": "stdout"
        }
      ]
    },
    {
      "cell_type": "code",
      "metadata": {
        "id": "uj9H-jKzuhQY",
        "outputId": "d4d202ed-6064-4661-db77-d8c2859c9a3e",
        "colab": {
          "base_uri": "https://localhost:8080/"
        }
      },
      "source": [
        "nframes = file.getnframes()\n",
        "print(nframes)"
      ],
      "execution_count": null,
      "outputs": [
        {
          "output_type": "stream",
          "text": [
            "535781\n"
          ],
          "name": "stdout"
        }
      ]
    },
    {
      "cell_type": "code",
      "metadata": {
        "id": "GBMJXHiaulC4",
        "outputId": "eda71e58-5862-4e70-ef75-a8fbe78b03f4",
        "colab": {
          "base_uri": "https://localhost:8080/"
        }
      },
      "source": [
        "nchannels = file.getnchannels()\n",
        "print(nchannels)"
      ],
      "execution_count": null,
      "outputs": [
        {
          "output_type": "stream",
          "text": [
            "2\n"
          ],
          "name": "stdout"
        }
      ]
    },
    {
      "cell_type": "code",
      "metadata": {
        "id": "jQs0eY29uoOh"
      },
      "source": [
        "data = file.readframes(100000)\n",
        "print(data)\n",
        "nframes = 100000"
      ],
      "execution_count": null,
      "outputs": []
    },
    {
      "cell_type": "code",
      "metadata": {
        "id": "30GUnpjhu0uh",
        "outputId": "875d3eb1-a0c6-43b4-ae35-c65bd6f5fb34",
        "colab": {
          "base_uri": "https://localhost:8080/"
        }
      },
      "source": [
        "w_data = np.frombuffer(data, np.int16)\n",
        "print(w_data)"
      ],
      "execution_count": null,
      "outputs": [
        {
          "output_type": "stream",
          "text": [
            "[  47   -1  200 ... 1500    0 1926]\n"
          ],
          "name": "stdout"
        }
      ]
    },
    {
      "cell_type": "code",
      "metadata": {
        "id": "E8t5SJIvvZOR",
        "outputId": "59f18f27-dca3-42ab-b4eb-3a74b5bb4861",
        "colab": {
          "base_uri": "https://localhost:8080/"
        }
      },
      "source": [
        "w_data.shape = -1, 2\n",
        "print(w_data)"
      ],
      "execution_count": null,
      "outputs": [
        {
          "output_type": "stream",
          "text": [
            "[[  47   -1]\n",
            " [ 200    1]\n",
            " [ -82   -1]\n",
            " ...\n",
            " [   0  903]\n",
            " [   0 1500]\n",
            " [   0 1926]]\n"
          ],
          "name": "stdout"
        }
      ]
    },
    {
      "cell_type": "code",
      "metadata": {
        "id": "z9o1lDP4vkjO",
        "outputId": "469915ad-e318-48f6-fc1d-e4241c68215a",
        "colab": {
          "base_uri": "https://localhost:8080/"
        }
      },
      "source": [
        "w_data = w_data.T\n",
        "print(w_data)"
      ],
      "execution_count": null,
      "outputs": [
        {
          "output_type": "stream",
          "text": [
            "[[  47  200  -82 ...    0    0    0]\n",
            " [  -1    1   -1 ...  903 1500 1926]]\n"
          ],
          "name": "stdout"
        }
      ]
    },
    {
      "cell_type": "code",
      "metadata": {
        "id": "gbqqeIUe1tBv",
        "outputId": "5d928e09-8deb-4558-a2cf-81b7077fb5c7",
        "colab": {
          "base_uri": "https://localhost:8080/"
        }
      },
      "source": [
        "print(len(w_data[0]), len(w_data[1]))"
      ],
      "execution_count": null,
      "outputs": [
        {
          "output_type": "stream",
          "text": [
            "100000 100000\n"
          ],
          "name": "stdout"
        }
      ]
    },
    {
      "cell_type": "code",
      "metadata": {
        "id": "YSHmysUXvsxO",
        "outputId": "cad18d8f-6a3b-4b4b-ce60-9d69a0458b74",
        "colab": {
          "base_uri": "https://localhost:8080/"
        }
      },
      "source": [
        "print(nframes/fr)\n",
        "duration = 1/fr\n",
        "print(duration)"
      ],
      "execution_count": null,
      "outputs": [
        {
          "output_type": "stream",
          "text": [
            "3.125\n",
            "3.125e-05\n"
          ],
          "name": "stdout"
        }
      ]
    },
    {
      "cell_type": "code",
      "metadata": {
        "id": "K1ihae6SwEdx",
        "outputId": "253a4f77-eec6-4144-89ce-ae2ec2f65a89",
        "colab": {
          "base_uri": "https://localhost:8080/"
        }
      },
      "source": [
        "time_sequence = np.arange(0, nframes/fr, duration)\n",
        "print(time_sequence)"
      ],
      "execution_count": null,
      "outputs": [
        {
          "output_type": "stream",
          "text": [
            "[0.00000000e+00 3.12500000e-05 6.25000000e-05 ... 3.12490625e+00\n",
            " 3.12493750e+00 3.12496875e+00]\n"
          ],
          "name": "stdout"
        }
      ]
    },
    {
      "cell_type": "code",
      "metadata": {
        "id": "nRNy_oNvw-Wp"
      },
      "source": [
        "import matplotlib.pyplot as plt"
      ],
      "execution_count": null,
      "outputs": []
    },
    {
      "cell_type": "code",
      "metadata": {
        "id": "4j7a8Wy9xC4Y",
        "outputId": "4e4ba3b2-8e69-45e5-e665-6fe651fc5398",
        "colab": {
          "base_uri": "https://localhost:8080/",
          "height": 265
        }
      },
      "source": [
        "plt.plot(time_sequence, w_data[0])\n",
        "plt.show()"
      ],
      "execution_count": null,
      "outputs": [
        {
          "output_type": "display_data",
          "data": {
            "image/png": "[encoded data removed]",
            "text/plain": [
              "<Figure size 432x288 with 1 Axes>"
            ]
          },
          "metadata": {
            "tags": [],
            "needs_background": "light"
          }
        }
      ]
    },
    {
      "cell_type": "code",
      "metadata": {
        "id": "uSTXrpyoxGXr",
        "outputId": "4acf1aa3-fc01-4662-bf3d-b328034ee0b9",
        "colab": {
          "base_uri": "https://localhost:8080/",
          "height": 265
        }
      },
      "source": [
        "plt.plot(time_sequence, w_data[1])\n",
        "plt.show()"
      ],
      "execution_count": null,
      "outputs": [
        {
          "output_type": "display_data",
          "data": {
            "image/png": "[encoded data removed]",
            "text/plain": [
              "<Figure size 432x288 with 1 Axes>"
            ]
          },
          "metadata": {
            "tags": [],
            "needs_background": "light"
          }
        }
      ]
    }
  ]
}